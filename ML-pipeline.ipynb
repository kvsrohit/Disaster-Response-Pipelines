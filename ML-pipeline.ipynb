{
 "cells": [
  {
   "cell_type": "markdown",
   "metadata": {},
   "source": [
    "# ML Pipeline Preparation\n",
    "Follow the instructions below to help you create your ML pipeline.\n",
    "### 1. Import libraries and load data from database.\n",
    "- Import Python libraries\n",
    "- Load dataset from database with [`read_sql_table`](https://pandas.pydata.org/pandas-docs/stable/generated/pandas.read_sql_table.html)\n",
    "- Define feature and target variables X and Y"
   ]
  },
  {
   "cell_type": "code",
   "execution_count": 1,
   "metadata": {},
   "outputs": [
    {
     "name": "stdout",
     "output_type": "stream",
     "text": [
      "[nltk_data] Downloading package punkt to /root/nltk_data...\n",
      "[nltk_data]   Package punkt is already up-to-date!\n",
      "[nltk_data] Downloading package wordnet to /root/nltk_data...\n",
      "[nltk_data]   Package wordnet is already up-to-date!\n",
      "[nltk_data] Downloading package stopwords to /root/nltk_data...\n",
      "[nltk_data]   Package stopwords is already up-to-date!\n",
      "[nltk_data] Downloading package averaged_perceptron_tagger to\n",
      "[nltk_data]     /root/nltk_data...\n",
      "[nltk_data]   Package averaged_perceptron_tagger is already up-to-\n",
      "[nltk_data]       date!\n"
     ]
    }
   ],
   "source": [
    "# import libraries\n",
    "import pandas as pd\n",
    "import re\n",
    "import nltk\n",
    "nltk.download(['punkt', 'wordnet', 'stopwords', 'averaged_perceptron_tagger'])\n",
    "\n",
    "from sqlalchemy import create_engine\n",
    "\n",
    "from sklearn.multioutput import MultiOutputClassifier\n",
    "from sklearn.pipeline import Pipeline, FeatureUnion\n",
    "from sklearn.ensemble import RandomForestClassifier\n",
    "from sklearn.metrics import confusion_matrix\n",
    "from sklearn.metrics import accuracy_score, precision_score, recall_score, f1_score, fbeta_score, classification_report\n",
    "from sklearn.metrics import make_scorer\n",
    "\n",
    "from sklearn.model_selection import GridSearchCV\n",
    "from sklearn.model_selection import train_test_split\n",
    "from sklearn.base import BaseEstimator, TransformerMixin\n",
    "from sklearn.feature_extraction.text import CountVectorizer, TfidfTransformer\n",
    "\n",
    "import pickle\n",
    "\n",
    "from nltk.tokenize import word_tokenize\n",
    "from nltk.stem import WordNetLemmatizer\n",
    "from nltk.corpus import stopwords\n",
    "\n",
    "import workspace_utils\n",
    "from workspace_utils import active_session"
   ]
  },
  {
   "cell_type": "code",
   "execution_count": 2,
   "metadata": {},
   "outputs": [],
   "source": [
    "# load data from database\n",
    "engine = create_engine('sqlite:///messages_data.db')\n",
    "df = pd.read_sql_table('messages', engine)\n",
    "\n",
    "X = df.message\n",
    "Y = df.drop(['id', 'message', 'original', 'genre'], axis=1)"
   ]
  },
  {
   "cell_type": "code",
   "execution_count": 3,
   "metadata": {},
   "outputs": [
    {
     "data": {
      "text/plain": [
       "related                   20282\n",
       "request                    4474\n",
       "offer                       118\n",
       "aid_related               10860\n",
       "medical_help               2084\n",
       "medical_products           1313\n",
       "search_and_rescue           724\n",
       "security                    471\n",
       "military                    860\n",
       "child_alone                   0\n",
       "water                      1672\n",
       "food                       2923\n",
       "shelter                    2314\n",
       "clothing                    405\n",
       "money                       604\n",
       "missing_people              298\n",
       "refugees                    875\n",
       "death                      1194\n",
       "other_aid                  3446\n",
       "infrastructure_related     1705\n",
       "transport                  1201\n",
       "buildings                  1333\n",
       "electricity                 532\n",
       "tools                       159\n",
       "hospitals                   283\n",
       "shops                       120\n",
       "aid_centers                 309\n",
       "other_infrastructure       1151\n",
       "weather_related            7297\n",
       "floods                     2155\n",
       "storm                      2443\n",
       "fire                        282\n",
       "earthquake                 2455\n",
       "cold                        530\n",
       "other_weather              1376\n",
       "direct_report              5075\n",
       "dtype: int64"
      ]
     },
     "execution_count": 3,
     "metadata": {},
     "output_type": "execute_result"
    }
   ],
   "source": [
    "x = df.drop(['id', 'message', 'original'], axis=1).groupby('genre').sum().T\n",
    "\n",
    "x.sum(axis=1)\n",
    "#.plot(kind='bar', figsize=(18,8))"
   ]
  },
  {
   "cell_type": "code",
   "execution_count": 4,
   "metadata": {},
   "outputs": [],
   "source": [
    "# Let us see the distribution of target values\n",
    "\n",
    "(Y.sum()/Y.shape[0]).plot(kind='bar', figsize=(20,5));"
   ]
  },
  {
   "cell_type": "markdown",
   "metadata": {},
   "source": [
    "As we can see the except for a few columns (aid_related, weather_related, direct_report) data in most of the target columns is zero. The data is imbalanced and challenge lies in correctly identifying True-Positives while minimizing False-Positives and False-Negatives. The aim is to maximize both recall and precision score. \n",
    "\n",
    "However, since we are dealing with disaster response cases, we should give more weightage to recall score than precision score.\n",
    "\n",
    "We will use $F_\\beta$ as our primary measure of score with $\\beta=2$\n"
   ]
  },
  {
   "cell_type": "markdown",
   "metadata": {},
   "source": [
    "### 2. Write a tokenization function to process your text data\n",
    "\n",
    "Do messages contain urls? if so, we should consider replacing them in our tokenizer"
   ]
  },
  {
   "cell_type": "code",
   "execution_count": 5,
   "metadata": {},
   "outputs": [
    {
     "data": {
      "text/plain": [
       "0.025518767165090023"
      ]
     },
     "execution_count": 5,
     "metadata": {},
     "output_type": "execute_result"
    }
   ],
   "source": [
    "# Check if messages contain urls? if so, we should consider replacing them in our tokenizer\n",
    "\n",
    "url_regex = 'http[s]?://(?:[a-zA-Z]|[0-9]|[$-_@.&+]|[!*\\(\\),]|(?:%[0-9a-fA-F][0-9a-fA-F]))+'\n",
    "def has_url(text):\n",
    "    return True if re.search(url_regex, text) else False\n",
    "\n",
    "df.message.apply(has_url).sum()/df.shape[0]"
   ]
  },
  {
   "cell_type": "code",
   "execution_count": 6,
   "metadata": {},
   "outputs": [],
   "source": [
    "def tokenize(text):\n",
    "    \"\"\"\n",
    "    Processes the inputs by normalizing, tokenizing and converting to word stems\n",
    "    \n",
    "    Args: \n",
    "    text: text to be processes\n",
    "    \n",
    "    Returns:\n",
    "    tokens: the processed and tokenized list of words\n",
    "    \"\"\"\n",
    "    \n",
    "    # Remove urls from text\n",
    "    detected_urls = re.findall(url_regex, text)\n",
    "    for url in detected_urls:\n",
    "        text = text.replace(url, \"urlplaceholder\")\n",
    "\n",
    "    # convert to lowe-case and remove any special characters.\n",
    "    text = re.sub(r\"[^a-zA-Z0-9]\", \" \", text.lower())\n",
    "    \n",
    "    words = word_tokenize(text)\n",
    "    stop_words = stopwords.words('english')\n",
    "    lemmatizer = WordNetLemmatizer()\n",
    "\n",
    "    # filter out the stop-words and lemmatize\n",
    "    tokens = [lemmatizer.lemmatize(word.strip()) for word in words if word not in stop_words]\n",
    "\n",
    "    return tokens"
   ]
  },
  {
   "cell_type": "markdown",
   "metadata": {},
   "source": [
    "### 3. Build a machine learning pipeline\n",
    "This machine pipeline should take in the `message` column as input and output classification results on the other 36 categories in the dataset. You may find the [MultiOutputClassifier](http://scikit-learn.org/stable/modules/generated/sklearn.multioutput.MultiOutputClassifier.html) helpful for predicting multiple target variables."
   ]
  },
  {
   "cell_type": "code",
   "execution_count": 7,
   "metadata": {},
   "outputs": [],
   "source": [
    "pipeline = Pipeline([\n",
    "    ('vect', CountVectorizer(tokenizer = tokenize)),\n",
    "    ('tfidf', TfidfTransformer()),\n",
    "    ('clf', MultiOutputClassifier(estimator=RandomForestClassifier()))\n",
    "])"
   ]
  },
  {
   "cell_type": "markdown",
   "metadata": {},
   "source": [
    "### 4. Train pipeline\n",
    "- Split data into train and test sets\n",
    "- Train pipeline"
   ]
  },
  {
   "cell_type": "code",
   "execution_count": 8,
   "metadata": {},
   "outputs": [],
   "source": [
    "# train test split\n",
    "X_train, X_test, y_train, y_test = train_test_split(X, Y, test_size=.3, random_state=42)\n",
    "\n",
    "# fit the pipeline\n",
    "model = pipeline.fit(X_train, y_train)\n",
    "\n"
   ]
  },
  {
   "cell_type": "markdown",
   "metadata": {},
   "source": [
    "### 5. Test your model\n",
    "Report the f1 score, precision and recall for each output category of the dataset. You can do this by iterating through the columns and calling sklearn's `classification_report` on each."
   ]
  },
  {
   "cell_type": "code",
   "execution_count": 9,
   "metadata": {},
   "outputs": [],
   "source": [
    "y_pred = model.predict(X_test)"
   ]
  },
  {
   "cell_type": "code",
   "execution_count": 10,
   "metadata": {},
   "outputs": [
    {
     "name": "stderr",
     "output_type": "stream",
     "text": [
      "/opt/conda/lib/python3.6/site-packages/sklearn/metrics/classification.py:1137: UndefinedMetricWarning: Recall is ill-defined and being set to 0.0 in labels with no true samples.\n",
      "  'recall', 'true', average, warn_for)\n",
      "/opt/conda/lib/python3.6/site-packages/sklearn/metrics/classification.py:1137: UndefinedMetricWarning: F-score is ill-defined and being set to 0.0 in labels with no true samples.\n",
      "  'recall', 'true', average, warn_for)\n",
      "/opt/conda/lib/python3.6/site-packages/sklearn/metrics/classification.py:1135: UndefinedMetricWarning: Precision is ill-defined and being set to 0.0 in labels with no predicted samples.\n",
      "  'precision', 'predicted', average, warn_for)\n",
      "/opt/conda/lib/python3.6/site-packages/sklearn/metrics/classification.py:1135: UndefinedMetricWarning: F-score is ill-defined and being set to 0.0 in labels with no predicted samples.\n",
      "  'precision', 'predicted', average, warn_for)\n"
     ]
    },
    {
     "name": "stdout",
     "output_type": "stream",
     "text": [
      "                              F1     Fbeta  accuracy  precision    recall\n",
      "label                                                                    \n",
      "related                 0.939801  0.921754  0.916667   0.979167  0.916667\n",
      "request                 1.000000  1.000000  1.000000   1.000000  1.000000\n",
      "offer                   0.904762  0.909586  0.916667   0.924242  0.916667\n",
      "aid_related             0.985915  0.977654  0.972222   1.000000  0.972222\n",
      "medical_help            0.985915  0.977654  0.972222   1.000000  0.972222\n",
      "medical_products        0.936027  0.939643  0.944444   0.947712  0.944444\n",
      "search_and_rescue       1.000000  1.000000  1.000000   1.000000  1.000000\n",
      "security                0.936027  0.939643  0.944444   0.947712  0.944444\n",
      "military                0.904762  0.909586  0.916667   0.924242  0.916667\n",
      "child_alone             0.985915  0.977654  0.972222   1.000000  0.972222\n",
      "water                   1.000000  1.000000  1.000000   1.000000  1.000000\n",
      "food                    0.936027  0.939643  0.944444   0.947712  0.944444\n",
      "shelter                 0.908955  0.913296  0.916667   0.904412  0.916667\n",
      "clothing                0.958529  0.966698  0.972222   0.945216  0.972222\n",
      "money                   0.940741  0.941902  0.944444   0.948029  0.944444\n",
      "missing_people          0.893532  0.905209  0.916667   0.923810  0.916667\n",
      "refugees                0.931373  0.937740  0.944444   0.947619  0.944444\n",
      "death                   0.970452  0.971087  0.972222   0.973064  0.972222\n",
      "other_aid               0.985915  0.977654  0.972222   1.000000  0.972222\n",
      "infrastructure_related  0.970452  0.971087  0.972222   0.973064  0.972222\n",
      "transport               0.970452  0.971087  0.972222   0.973064  0.972222\n",
      "buildings               0.958529  0.966698  0.972222   0.945216  0.972222\n",
      "electricity             0.967794  0.969786  0.972222   0.973016  0.972222\n",
      "tools                   0.958529  0.966698  0.972222   0.945216  0.972222\n",
      "hospitals               0.958529  0.966698  0.972222   0.945216  0.972222\n",
      "shops                   1.000000  1.000000  1.000000   1.000000  1.000000\n",
      "aid_centers             1.000000  1.000000  1.000000   1.000000  1.000000\n",
      "other_infrastructure    0.769333  0.787630  0.805556   0.784512  0.805556\n",
      "weather_related         0.985915  0.977654  0.972222   1.000000  0.972222\n",
      "floods                  1.000000  1.000000  1.000000   1.000000  1.000000\n",
      "storm                   0.931373  0.937740  0.944444   0.947619  0.944444\n",
      "fire                    0.969652  0.970668  0.972222   0.973039  0.972222\n",
      "earthquake              0.584738  0.599231  0.638889   0.790323  0.638889\n",
      "cold                    1.000000  1.000000  1.000000   1.000000  1.000000\n",
      "other_weather           0.870251  0.878016  0.888889   0.902357  0.888889\n",
      "direct_report           1.000000  1.000000  1.000000   1.000000  1.000000\n"
     ]
    },
    {
     "data": {
      "image/png": "[encoded data removed]",
      "text/plain": [
       "<matplotlib.figure.Figure at 0x7f6786226ef0>"
      ]
     },
     "metadata": {
      "needs_background": "light"
     },
     "output_type": "display_data"
    }
   ],
   "source": [
    "def calculate_scores(actuals, predicted, labels):\n",
    "    scores = []\n",
    "    for i,label in enumerate(labels):\n",
    "        scores.append({\n",
    "            'label': label,\n",
    "            'accuracy': accuracy_score(actuals[i], predicted[i]),\n",
    "            'precision': precision_score(actuals[i], predicted[i], average='weighted'),\n",
    "            'recall': recall_score(actuals[i], predicted[i], average='weighted'),\n",
    "            'F1': f1_score(actuals[i], predicted[i], average='weighted'),\n",
    "            'Fbeta': fbeta_score(actuals[i], predicted[i], beta=2, average='weighted')\n",
    "\n",
    "        })\n",
    "    scores = pd.DataFrame.from_dict(scores).set_index('label')\n",
    "    return scores\n",
    "\n",
    "labels = y_test.columns.values\n",
    "scores = calculate_scores(y_test.values, y_pred, labels)\n",
    "\n",
    "print(scores)\n",
    "scores[['Fbeta','F1']].plot(kind='bar', figsize=(18,5));"
   ]
  },
  {
   "cell_type": "markdown",
   "metadata": {},
   "source": [
    "### 6. Improve your model\n",
    "Use grid search to find better parameters. "
   ]
  },
  {
   "cell_type": "code",
   "execution_count": 11,
   "metadata": {},
   "outputs": [
    {
     "data": {
      "text/plain": [
       "{'memory': None,\n",
       " 'steps': [('vect',\n",
       "   CountVectorizer(analyzer='word', binary=False, decode_error='strict',\n",
       "           dtype=<class 'numpy.int64'>, encoding='utf-8', input='content',\n",
       "           lowercase=True, max_df=1.0, max_features=None, min_df=1,\n",
       "           ngram_range=(1, 1), preprocessor=None, stop_words=None,\n",
       "           strip_accents=None, token_pattern='(?u)\\\\b\\\\w\\\\w+\\\\b',\n",
       "           tokenizer=<function tokenize at 0x7f678e9aa730>, vocabulary=None)),\n",
       "  ('tfidf',\n",
       "   TfidfTransformer(norm='l2', smooth_idf=True, sublinear_tf=False, use_idf=True)),\n",
       "  ('clf',\n",
       "   MultiOutputClassifier(estimator=RandomForestClassifier(bootstrap=True, class_weight=None, criterion='gini',\n",
       "               max_depth=None, max_features='auto', max_leaf_nodes=None,\n",
       "               min_impurity_decrease=0.0, min_impurity_split=None,\n",
       "               min_samples_leaf=1, min_samples_split=2,\n",
       "               min_weight_fraction_leaf=0.0, n_estimators=10, n_jobs=1,\n",
       "               oob_score=False, random_state=None, verbose=0,\n",
       "               warm_start=False),\n",
       "              n_jobs=1))],\n",
       " 'vect': CountVectorizer(analyzer='word', binary=False, decode_error='strict',\n",
       "         dtype=<class 'numpy.int64'>, encoding='utf-8', input='content',\n",
       "         lowercase=True, max_df=1.0, max_features=None, min_df=1,\n",
       "         ngram_range=(1, 1), preprocessor=None, stop_words=None,\n",
       "         strip_accents=None, token_pattern='(?u)\\\\b\\\\w\\\\w+\\\\b',\n",
       "         tokenizer=<function tokenize at 0x7f678e9aa730>, vocabulary=None),\n",
       " 'tfidf': TfidfTransformer(norm='l2', smooth_idf=True, sublinear_tf=False, use_idf=True),\n",
       " 'clf': MultiOutputClassifier(estimator=RandomForestClassifier(bootstrap=True, class_weight=None, criterion='gini',\n",
       "             max_depth=None, max_features='auto', max_leaf_nodes=None,\n",
       "             min_impurity_decrease=0.0, min_impurity_split=None,\n",
       "             min_samples_leaf=1, min_samples_split=2,\n",
       "             min_weight_fraction_leaf=0.0, n_estimators=10, n_jobs=1,\n",
       "             oob_score=False, random_state=None, verbose=0,\n",
       "             warm_start=False),\n",
       "            n_jobs=1),\n",
       " 'vect__analyzer': 'word',\n",
       " 'vect__binary': False,\n",
       " 'vect__decode_error': 'strict',\n",
       " 'vect__dtype': numpy.int64,\n",
       " 'vect__encoding': 'utf-8',\n",
       " 'vect__input': 'content',\n",
       " 'vect__lowercase': True,\n",
       " 'vect__max_df': 1.0,\n",
       " 'vect__max_features': None,\n",
       " 'vect__min_df': 1,\n",
       " 'vect__ngram_range': (1, 1),\n",
       " 'vect__preprocessor': None,\n",
       " 'vect__stop_words': None,\n",
       " 'vect__strip_accents': None,\n",
       " 'vect__token_pattern': '(?u)\\\\b\\\\w\\\\w+\\\\b',\n",
       " 'vect__tokenizer': <function __main__.tokenize(text)>,\n",
       " 'vect__vocabulary': None,\n",
       " 'tfidf__norm': 'l2',\n",
       " 'tfidf__smooth_idf': True,\n",
       " 'tfidf__sublinear_tf': False,\n",
       " 'tfidf__use_idf': True,\n",
       " 'clf__estimator__bootstrap': True,\n",
       " 'clf__estimator__class_weight': None,\n",
       " 'clf__estimator__criterion': 'gini',\n",
       " 'clf__estimator__max_depth': None,\n",
       " 'clf__estimator__max_features': 'auto',\n",
       " 'clf__estimator__max_leaf_nodes': None,\n",
       " 'clf__estimator__min_impurity_decrease': 0.0,\n",
       " 'clf__estimator__min_impurity_split': None,\n",
       " 'clf__estimator__min_samples_leaf': 1,\n",
       " 'clf__estimator__min_samples_split': 2,\n",
       " 'clf__estimator__min_weight_fraction_leaf': 0.0,\n",
       " 'clf__estimator__n_estimators': 10,\n",
       " 'clf__estimator__n_jobs': 1,\n",
       " 'clf__estimator__oob_score': False,\n",
       " 'clf__estimator__random_state': None,\n",
       " 'clf__estimator__verbose': 0,\n",
       " 'clf__estimator__warm_start': False,\n",
       " 'clf__estimator': RandomForestClassifier(bootstrap=True, class_weight=None, criterion='gini',\n",
       "             max_depth=None, max_features='auto', max_leaf_nodes=None,\n",
       "             min_impurity_decrease=0.0, min_impurity_split=None,\n",
       "             min_samples_leaf=1, min_samples_split=2,\n",
       "             min_weight_fraction_leaf=0.0, n_estimators=10, n_jobs=1,\n",
       "             oob_score=False, random_state=None, verbose=0,\n",
       "             warm_start=False),\n",
       " 'clf__n_jobs': 1}"
      ]
     },
     "execution_count": 11,
     "metadata": {},
     "output_type": "execute_result"
    }
   ],
   "source": [
    "pipeline.get_params()"
   ]
  },
  {
   "cell_type": "code",
   "execution_count": 12,
   "metadata": {},
   "outputs": [
    {
     "name": "stdout",
     "output_type": "stream",
     "text": [
      "Fitting 3 folds for each of 24 candidates, totalling 72 fits\n",
      "[CV] clf__estimator__min_samples_split=2, clf__estimator__n_estimators=10, tfidf__use_idf=True, vect__max_df=0.5 \n",
      "[CV]  clf__estimator__min_samples_split=2, clf__estimator__n_estimators=10, tfidf__use_idf=True, vect__max_df=0.5, total=  46.9s\n",
      "[CV] clf__estimator__min_samples_split=2, clf__estimator__n_estimators=10, tfidf__use_idf=True, vect__max_df=0.5 \n"
     ]
    },
    {
     "name": "stderr",
     "output_type": "stream",
     "text": [
      "[Parallel(n_jobs=-1)]: Done   1 out of   1 | elapsed:   58.2s remaining:    0.0s\n"
     ]
    },
    {
     "name": "stdout",
     "output_type": "stream",
     "text": [
      "[CV]  clf__estimator__min_samples_split=2, clf__estimator__n_estimators=10, tfidf__use_idf=True, vect__max_df=0.5, total=  46.8s\n",
      "[CV] clf__estimator__min_samples_split=2, clf__estimator__n_estimators=10, tfidf__use_idf=True, vect__max_df=0.5 \n",
      "[CV]  clf__estimator__min_samples_split=2, clf__estimator__n_estimators=10, tfidf__use_idf=True, vect__max_df=0.5, total=  46.9s\n",
      "[CV] clf__estimator__min_samples_split=2, clf__estimator__n_estimators=10, tfidf__use_idf=True, vect__max_df=1.0 \n",
      "[CV]  clf__estimator__min_samples_split=2, clf__estimator__n_estimators=10, tfidf__use_idf=True, vect__max_df=1.0, total=  46.6s\n",
      "[CV] clf__estimator__min_samples_split=2, clf__estimator__n_estimators=10, tfidf__use_idf=True, vect__max_df=1.0 \n",
      "[CV]  clf__estimator__min_samples_split=2, clf__estimator__n_estimators=10, tfidf__use_idf=True, vect__max_df=1.0, total=  46.9s\n",
      "[CV] clf__estimator__min_samples_split=2, clf__estimator__n_estimators=10, tfidf__use_idf=True, vect__max_df=1.0 \n",
      "[CV]  clf__estimator__min_samples_split=2, clf__estimator__n_estimators=10, tfidf__use_idf=True, vect__max_df=1.0, total=  47.3s\n",
      "[CV] clf__estimator__min_samples_split=2, clf__estimator__n_estimators=10, tfidf__use_idf=False, vect__max_df=0.5 \n",
      "[CV]  clf__estimator__min_samples_split=2, clf__estimator__n_estimators=10, tfidf__use_idf=False, vect__max_df=0.5, total=  47.4s\n",
      "[CV] clf__estimator__min_samples_split=2, clf__estimator__n_estimators=10, tfidf__use_idf=False, vect__max_df=0.5 \n",
      "[CV]  clf__estimator__min_samples_split=2, clf__estimator__n_estimators=10, tfidf__use_idf=False, vect__max_df=0.5, total=  47.0s\n",
      "[CV] clf__estimator__min_samples_split=2, clf__estimator__n_estimators=10, tfidf__use_idf=False, vect__max_df=0.5 \n",
      "[CV]  clf__estimator__min_samples_split=2, clf__estimator__n_estimators=10, tfidf__use_idf=False, vect__max_df=0.5, total=  47.5s\n",
      "[CV] clf__estimator__min_samples_split=2, clf__estimator__n_estimators=10, tfidf__use_idf=False, vect__max_df=1.0 \n",
      "[CV]  clf__estimator__min_samples_split=2, clf__estimator__n_estimators=10, tfidf__use_idf=False, vect__max_df=1.0, total=  47.4s\n",
      "[CV] clf__estimator__min_samples_split=2, clf__estimator__n_estimators=10, tfidf__use_idf=False, vect__max_df=1.0 \n",
      "[CV]  clf__estimator__min_samples_split=2, clf__estimator__n_estimators=10, tfidf__use_idf=False, vect__max_df=1.0, total=  47.5s\n",
      "[CV] clf__estimator__min_samples_split=2, clf__estimator__n_estimators=10, tfidf__use_idf=False, vect__max_df=1.0 \n",
      "[CV]  clf__estimator__min_samples_split=2, clf__estimator__n_estimators=10, tfidf__use_idf=False, vect__max_df=1.0, total=  48.1s\n",
      "[CV] clf__estimator__min_samples_split=2, clf__estimator__n_estimators=30, tfidf__use_idf=True, vect__max_df=0.5 \n",
      "[CV]  clf__estimator__min_samples_split=2, clf__estimator__n_estimators=30, tfidf__use_idf=True, vect__max_df=0.5, total= 1.9min\n",
      "[CV] clf__estimator__min_samples_split=2, clf__estimator__n_estimators=30, tfidf__use_idf=True, vect__max_df=0.5 \n",
      "[CV]  clf__estimator__min_samples_split=2, clf__estimator__n_estimators=30, tfidf__use_idf=True, vect__max_df=0.5, total= 1.9min\n",
      "[CV] clf__estimator__min_samples_split=2, clf__estimator__n_estimators=30, tfidf__use_idf=True, vect__max_df=0.5 \n",
      "[CV]  clf__estimator__min_samples_split=2, clf__estimator__n_estimators=30, tfidf__use_idf=True, vect__max_df=0.5, total= 1.9min\n",
      "[CV] clf__estimator__min_samples_split=2, clf__estimator__n_estimators=30, tfidf__use_idf=True, vect__max_df=1.0 \n",
      "[CV]  clf__estimator__min_samples_split=2, clf__estimator__n_estimators=30, tfidf__use_idf=True, vect__max_df=1.0, total= 1.9min\n",
      "[CV] clf__estimator__min_samples_split=2, clf__estimator__n_estimators=30, tfidf__use_idf=True, vect__max_df=1.0 \n",
      "[CV]  clf__estimator__min_samples_split=2, clf__estimator__n_estimators=30, tfidf__use_idf=True, vect__max_df=1.0, total= 1.9min\n",
      "[CV] clf__estimator__min_samples_split=2, clf__estimator__n_estimators=30, tfidf__use_idf=True, vect__max_df=1.0 \n",
      "[CV]  clf__estimator__min_samples_split=2, clf__estimator__n_estimators=30, tfidf__use_idf=True, vect__max_df=1.0, total= 1.9min\n",
      "[CV] clf__estimator__min_samples_split=2, clf__estimator__n_estimators=30, tfidf__use_idf=False, vect__max_df=0.5 \n",
      "[CV]  clf__estimator__min_samples_split=2, clf__estimator__n_estimators=30, tfidf__use_idf=False, vect__max_df=0.5, total= 1.9min\n",
      "[CV] clf__estimator__min_samples_split=2, clf__estimator__n_estimators=30, tfidf__use_idf=False, vect__max_df=0.5 \n",
      "[CV]  clf__estimator__min_samples_split=2, clf__estimator__n_estimators=30, tfidf__use_idf=False, vect__max_df=0.5, total= 2.0min\n",
      "[CV] clf__estimator__min_samples_split=2, clf__estimator__n_estimators=30, tfidf__use_idf=False, vect__max_df=0.5 \n",
      "[CV]  clf__estimator__min_samples_split=2, clf__estimator__n_estimators=30, tfidf__use_idf=False, vect__max_df=0.5, total= 2.0min\n",
      "[CV] clf__estimator__min_samples_split=2, clf__estimator__n_estimators=30, tfidf__use_idf=False, vect__max_df=1.0 \n",
      "[CV]  clf__estimator__min_samples_split=2, clf__estimator__n_estimators=30, tfidf__use_idf=False, vect__max_df=1.0, total= 2.0min\n",
      "[CV] clf__estimator__min_samples_split=2, clf__estimator__n_estimators=30, tfidf__use_idf=False, vect__max_df=1.0 \n",
      "[CV]  clf__estimator__min_samples_split=2, clf__estimator__n_estimators=30, tfidf__use_idf=False, vect__max_df=1.0, total= 2.0min\n",
      "[CV] clf__estimator__min_samples_split=2, clf__estimator__n_estimators=30, tfidf__use_idf=False, vect__max_df=1.0 \n",
      "[CV]  clf__estimator__min_samples_split=2, clf__estimator__n_estimators=30, tfidf__use_idf=False, vect__max_df=1.0, total= 2.0min\n",
      "[CV] clf__estimator__min_samples_split=5, clf__estimator__n_estimators=10, tfidf__use_idf=True, vect__max_df=0.5 \n",
      "[CV]  clf__estimator__min_samples_split=5, clf__estimator__n_estimators=10, tfidf__use_idf=True, vect__max_df=0.5, total=  39.6s\n",
      "[CV] clf__estimator__min_samples_split=5, clf__estimator__n_estimators=10, tfidf__use_idf=True, vect__max_df=0.5 \n",
      "[CV]  clf__estimator__min_samples_split=5, clf__estimator__n_estimators=10, tfidf__use_idf=True, vect__max_df=0.5, total=  39.8s\n",
      "[CV] clf__estimator__min_samples_split=5, clf__estimator__n_estimators=10, tfidf__use_idf=True, vect__max_df=0.5 \n",
      "[CV]  clf__estimator__min_samples_split=5, clf__estimator__n_estimators=10, tfidf__use_idf=True, vect__max_df=0.5, total=  40.2s\n",
      "[CV] clf__estimator__min_samples_split=5, clf__estimator__n_estimators=10, tfidf__use_idf=True, vect__max_df=1.0 \n",
      "[CV]  clf__estimator__min_samples_split=5, clf__estimator__n_estimators=10, tfidf__use_idf=True, vect__max_df=1.0, total=  40.4s\n",
      "[CV] clf__estimator__min_samples_split=5, clf__estimator__n_estimators=10, tfidf__use_idf=True, vect__max_df=1.0 \n",
      "[CV]  clf__estimator__min_samples_split=5, clf__estimator__n_estimators=10, tfidf__use_idf=True, vect__max_df=1.0, total=  40.4s\n",
      "[CV] clf__estimator__min_samples_split=5, clf__estimator__n_estimators=10, tfidf__use_idf=True, vect__max_df=1.0 \n",
      "[CV]  clf__estimator__min_samples_split=5, clf__estimator__n_estimators=10, tfidf__use_idf=True, vect__max_df=1.0, total=  39.8s\n",
      "[CV] clf__estimator__min_samples_split=5, clf__estimator__n_estimators=10, tfidf__use_idf=False, vect__max_df=0.5 \n",
      "[CV]  clf__estimator__min_samples_split=5, clf__estimator__n_estimators=10, tfidf__use_idf=False, vect__max_df=0.5, total=  39.8s\n",
      "[CV] clf__estimator__min_samples_split=5, clf__estimator__n_estimators=10, tfidf__use_idf=False, vect__max_df=0.5 \n",
      "[CV]  clf__estimator__min_samples_split=5, clf__estimator__n_estimators=10, tfidf__use_idf=False, vect__max_df=0.5, total=  39.4s\n",
      "[CV] clf__estimator__min_samples_split=5, clf__estimator__n_estimators=10, tfidf__use_idf=False, vect__max_df=0.5 \n",
      "[CV]  clf__estimator__min_samples_split=5, clf__estimator__n_estimators=10, tfidf__use_idf=False, vect__max_df=0.5, total=  39.9s\n",
      "[CV] clf__estimator__min_samples_split=5, clf__estimator__n_estimators=10, tfidf__use_idf=False, vect__max_df=1.0 \n",
      "[CV]  clf__estimator__min_samples_split=5, clf__estimator__n_estimators=10, tfidf__use_idf=False, vect__max_df=1.0, total=  40.8s\n",
      "[CV] clf__estimator__min_samples_split=5, clf__estimator__n_estimators=10, tfidf__use_idf=False, vect__max_df=1.0 \n",
      "[CV]  clf__estimator__min_samples_split=5, clf__estimator__n_estimators=10, tfidf__use_idf=False, vect__max_df=1.0, total=  40.4s\n",
      "[CV] clf__estimator__min_samples_split=5, clf__estimator__n_estimators=10, tfidf__use_idf=False, vect__max_df=1.0 \n",
      "[CV]  clf__estimator__min_samples_split=5, clf__estimator__n_estimators=10, tfidf__use_idf=False, vect__max_df=1.0, total=  39.7s\n",
      "[CV] clf__estimator__min_samples_split=5, clf__estimator__n_estimators=30, tfidf__use_idf=True, vect__max_df=0.5 \n",
      "[CV]  clf__estimator__min_samples_split=5, clf__estimator__n_estimators=30, tfidf__use_idf=True, vect__max_df=0.5, total= 1.6min\n",
      "[CV] clf__estimator__min_samples_split=5, clf__estimator__n_estimators=30, tfidf__use_idf=True, vect__max_df=0.5 \n",
      "[CV]  clf__estimator__min_samples_split=5, clf__estimator__n_estimators=30, tfidf__use_idf=True, vect__max_df=0.5, total= 1.6min\n",
      "[CV] clf__estimator__min_samples_split=5, clf__estimator__n_estimators=30, tfidf__use_idf=True, vect__max_df=0.5 \n",
      "[CV]  clf__estimator__min_samples_split=5, clf__estimator__n_estimators=30, tfidf__use_idf=True, vect__max_df=0.5, total= 1.6min\n",
      "[CV] clf__estimator__min_samples_split=5, clf__estimator__n_estimators=30, tfidf__use_idf=True, vect__max_df=1.0 \n",
      "[CV]  clf__estimator__min_samples_split=5, clf__estimator__n_estimators=30, tfidf__use_idf=True, vect__max_df=1.0, total= 1.6min\n",
      "[CV] clf__estimator__min_samples_split=5, clf__estimator__n_estimators=30, tfidf__use_idf=True, vect__max_df=1.0 \n",
      "[CV]  clf__estimator__min_samples_split=5, clf__estimator__n_estimators=30, tfidf__use_idf=True, vect__max_df=1.0, total= 1.6min\n",
      "[CV] clf__estimator__min_samples_split=5, clf__estimator__n_estimators=30, tfidf__use_idf=True, vect__max_df=1.0 \n",
      "[CV]  clf__estimator__min_samples_split=5, clf__estimator__n_estimators=30, tfidf__use_idf=True, vect__max_df=1.0, total= 1.6min\n",
      "[CV] clf__estimator__min_samples_split=5, clf__estimator__n_estimators=30, tfidf__use_idf=False, vect__max_df=0.5 \n",
      "[CV]  clf__estimator__min_samples_split=5, clf__estimator__n_estimators=30, tfidf__use_idf=False, vect__max_df=0.5, total= 1.6min\n",
      "[CV] clf__estimator__min_samples_split=5, clf__estimator__n_estimators=30, tfidf__use_idf=False, vect__max_df=0.5 \n",
      "[CV]  clf__estimator__min_samples_split=5, clf__estimator__n_estimators=30, tfidf__use_idf=False, vect__max_df=0.5, total= 1.6min\n",
      "[CV] clf__estimator__min_samples_split=5, clf__estimator__n_estimators=30, tfidf__use_idf=False, vect__max_df=0.5 \n",
      "[CV]  clf__estimator__min_samples_split=5, clf__estimator__n_estimators=30, tfidf__use_idf=False, vect__max_df=0.5, total= 1.6min\n",
      "[CV] clf__estimator__min_samples_split=5, clf__estimator__n_estimators=30, tfidf__use_idf=False, vect__max_df=1.0 \n",
      "[CV]  clf__estimator__min_samples_split=5, clf__estimator__n_estimators=30, tfidf__use_idf=False, vect__max_df=1.0, total= 1.6min\n",
      "[CV] clf__estimator__min_samples_split=5, clf__estimator__n_estimators=30, tfidf__use_idf=False, vect__max_df=1.0 \n",
      "[CV]  clf__estimator__min_samples_split=5, clf__estimator__n_estimators=30, tfidf__use_idf=False, vect__max_df=1.0, total= 1.6min\n",
      "[CV] clf__estimator__min_samples_split=5, clf__estimator__n_estimators=30, tfidf__use_idf=False, vect__max_df=1.0 \n",
      "[CV]  clf__estimator__min_samples_split=5, clf__estimator__n_estimators=30, tfidf__use_idf=False, vect__max_df=1.0, total= 1.6min\n",
      "[CV] clf__estimator__min_samples_split=10, clf__estimator__n_estimators=10, tfidf__use_idf=True, vect__max_df=0.5 \n",
      "[CV]  clf__estimator__min_samples_split=10, clf__estimator__n_estimators=10, tfidf__use_idf=True, vect__max_df=0.5, total=  37.0s\n",
      "[CV] clf__estimator__min_samples_split=10, clf__estimator__n_estimators=10, tfidf__use_idf=True, vect__max_df=0.5 \n",
      "[CV]  clf__estimator__min_samples_split=10, clf__estimator__n_estimators=10, tfidf__use_idf=True, vect__max_df=0.5, total=  36.6s\n",
      "[CV] clf__estimator__min_samples_split=10, clf__estimator__n_estimators=10, tfidf__use_idf=True, vect__max_df=0.5 \n",
      "[CV]  clf__estimator__min_samples_split=10, clf__estimator__n_estimators=10, tfidf__use_idf=True, vect__max_df=0.5, total=  38.5s\n",
      "[CV] clf__estimator__min_samples_split=10, clf__estimator__n_estimators=10, tfidf__use_idf=True, vect__max_df=1.0 \n",
      "[CV]  clf__estimator__min_samples_split=10, clf__estimator__n_estimators=10, tfidf__use_idf=True, vect__max_df=1.0, total=  36.6s\n",
      "[CV] clf__estimator__min_samples_split=10, clf__estimator__n_estimators=10, tfidf__use_idf=True, vect__max_df=1.0 \n",
      "[CV]  clf__estimator__min_samples_split=10, clf__estimator__n_estimators=10, tfidf__use_idf=True, vect__max_df=1.0, total=  37.1s\n",
      "[CV] clf__estimator__min_samples_split=10, clf__estimator__n_estimators=10, tfidf__use_idf=True, vect__max_df=1.0 \n",
      "[CV]  clf__estimator__min_samples_split=10, clf__estimator__n_estimators=10, tfidf__use_idf=True, vect__max_df=1.0, total=  36.9s\n",
      "[CV] clf__estimator__min_samples_split=10, clf__estimator__n_estimators=10, tfidf__use_idf=False, vect__max_df=0.5 \n",
      "[CV]  clf__estimator__min_samples_split=10, clf__estimator__n_estimators=10, tfidf__use_idf=False, vect__max_df=0.5, total=  37.3s\n",
      "[CV] clf__estimator__min_samples_split=10, clf__estimator__n_estimators=10, tfidf__use_idf=False, vect__max_df=0.5 \n",
      "[CV]  clf__estimator__min_samples_split=10, clf__estimator__n_estimators=10, tfidf__use_idf=False, vect__max_df=0.5, total=  37.1s\n",
      "[CV] clf__estimator__min_samples_split=10, clf__estimator__n_estimators=10, tfidf__use_idf=False, vect__max_df=0.5 \n",
      "[CV]  clf__estimator__min_samples_split=10, clf__estimator__n_estimators=10, tfidf__use_idf=False, vect__max_df=0.5, total=  37.5s\n",
      "[CV] clf__estimator__min_samples_split=10, clf__estimator__n_estimators=10, tfidf__use_idf=False, vect__max_df=1.0 \n",
      "[CV]  clf__estimator__min_samples_split=10, clf__estimator__n_estimators=10, tfidf__use_idf=False, vect__max_df=1.0, total=  37.2s\n",
      "[CV] clf__estimator__min_samples_split=10, clf__estimator__n_estimators=10, tfidf__use_idf=False, vect__max_df=1.0 \n",
      "[CV]  clf__estimator__min_samples_split=10, clf__estimator__n_estimators=10, tfidf__use_idf=False, vect__max_df=1.0, total=  36.9s\n",
      "[CV] clf__estimator__min_samples_split=10, clf__estimator__n_estimators=10, tfidf__use_idf=False, vect__max_df=1.0 \n",
      "[CV]  clf__estimator__min_samples_split=10, clf__estimator__n_estimators=10, tfidf__use_idf=False, vect__max_df=1.0, total=  36.6s\n",
      "[CV] clf__estimator__min_samples_split=10, clf__estimator__n_estimators=30, tfidf__use_idf=True, vect__max_df=0.5 \n",
      "[CV]  clf__estimator__min_samples_split=10, clf__estimator__n_estimators=30, tfidf__use_idf=True, vect__max_df=0.5, total= 1.4min\n",
      "[CV] clf__estimator__min_samples_split=10, clf__estimator__n_estimators=30, tfidf__use_idf=True, vect__max_df=0.5 \n",
      "[CV]  clf__estimator__min_samples_split=10, clf__estimator__n_estimators=30, tfidf__use_idf=True, vect__max_df=0.5, total= 1.5min\n",
      "[CV] clf__estimator__min_samples_split=10, clf__estimator__n_estimators=30, tfidf__use_idf=True, vect__max_df=0.5 \n",
      "[CV]  clf__estimator__min_samples_split=10, clf__estimator__n_estimators=30, tfidf__use_idf=True, vect__max_df=0.5, total= 1.8min\n",
      "[CV] clf__estimator__min_samples_split=10, clf__estimator__n_estimators=30, tfidf__use_idf=True, vect__max_df=1.0 \n",
      "[CV]  clf__estimator__min_samples_split=10, clf__estimator__n_estimators=30, tfidf__use_idf=True, vect__max_df=1.0, total= 1.5min\n",
      "[CV] clf__estimator__min_samples_split=10, clf__estimator__n_estimators=30, tfidf__use_idf=True, vect__max_df=1.0 \n",
      "[CV]  clf__estimator__min_samples_split=10, clf__estimator__n_estimators=30, tfidf__use_idf=True, vect__max_df=1.0, total= 1.4min\n",
      "[CV] clf__estimator__min_samples_split=10, clf__estimator__n_estimators=30, tfidf__use_idf=True, vect__max_df=1.0 \n",
      "[CV]  clf__estimator__min_samples_split=10, clf__estimator__n_estimators=30, tfidf__use_idf=True, vect__max_df=1.0, total= 1.4min\n",
      "[CV] clf__estimator__min_samples_split=10, clf__estimator__n_estimators=30, tfidf__use_idf=False, vect__max_df=0.5 \n",
      "[CV]  clf__estimator__min_samples_split=10, clf__estimator__n_estimators=30, tfidf__use_idf=False, vect__max_df=0.5, total= 1.4min\n",
      "[CV] clf__estimator__min_samples_split=10, clf__estimator__n_estimators=30, tfidf__use_idf=False, vect__max_df=0.5 \n",
      "[CV]  clf__estimator__min_samples_split=10, clf__estimator__n_estimators=30, tfidf__use_idf=False, vect__max_df=0.5, total= 1.4min\n",
      "[CV] clf__estimator__min_samples_split=10, clf__estimator__n_estimators=30, tfidf__use_idf=False, vect__max_df=0.5 \n",
      "[CV]  clf__estimator__min_samples_split=10, clf__estimator__n_estimators=30, tfidf__use_idf=False, vect__max_df=0.5, total= 1.4min\n",
      "[CV] clf__estimator__min_samples_split=10, clf__estimator__n_estimators=30, tfidf__use_idf=False, vect__max_df=1.0 \n",
      "[CV]  clf__estimator__min_samples_split=10, clf__estimator__n_estimators=30, tfidf__use_idf=False, vect__max_df=1.0, total= 1.4min\n",
      "[CV] clf__estimator__min_samples_split=10, clf__estimator__n_estimators=30, tfidf__use_idf=False, vect__max_df=1.0 \n",
      "[CV]  clf__estimator__min_samples_split=10, clf__estimator__n_estimators=30, tfidf__use_idf=False, vect__max_df=1.0, total= 1.5min\n",
      "[CV] clf__estimator__min_samples_split=10, clf__estimator__n_estimators=30, tfidf__use_idf=False, vect__max_df=1.0 \n",
      "[CV]  clf__estimator__min_samples_split=10, clf__estimator__n_estimators=30, tfidf__use_idf=False, vect__max_df=1.0, total= 1.4min\n"
     ]
    },
    {
     "name": "stderr",
     "output_type": "stream",
     "text": [
      "[Parallel(n_jobs=-1)]: Done  72 out of  72 | elapsed: 102.4min finished\n"
     ]
    }
   ],
   "source": [
    "parameters = {\n",
    "    'vect__max_df': (0.5, 1.0),\n",
    "    'tfidf__use_idf': (True, False),\n",
    "    'clf__estimator__n_estimators': [10, 30],\n",
    "    'clf__estimator__min_samples_split': [2, 5, 10]\n",
    "}\n",
    "\n",
    "cv = GridSearchCV(pipeline, param_grid=parameters, cv=3, verbose=2, n_jobs=-1)\n",
    "with active_session():\n",
    "    cv.fit(X_train, y_train)"
   ]
  },
  {
   "cell_type": "markdown",
   "metadata": {},
   "source": [
    "### 7. Test your model\n",
    "Show the accuracy, precision, and recall of the tuned model.  \n",
    "\n",
    "Since this project focuses on code quality, process, and  pipelines, there is no minimum performance metric needed to pass. However, make sure to fine tune your models for accuracy, precision and recall to make your project stand out - especially for your portfolio!"
   ]
  },
  {
   "cell_type": "code",
   "execution_count": 13,
   "metadata": {},
   "outputs": [
    {
     "name": "stderr",
     "output_type": "stream",
     "text": [
      "/opt/conda/lib/python3.6/site-packages/sklearn/metrics/classification.py:1137: UndefinedMetricWarning: Recall is ill-defined and being set to 0.0 in labels with no true samples.\n",
      "  'recall', 'true', average, warn_for)\n",
      "/opt/conda/lib/python3.6/site-packages/sklearn/metrics/classification.py:1137: UndefinedMetricWarning: F-score is ill-defined and being set to 0.0 in labels with no true samples.\n",
      "  'recall', 'true', average, warn_for)\n",
      "/opt/conda/lib/python3.6/site-packages/sklearn/metrics/classification.py:1135: UndefinedMetricWarning: Precision is ill-defined and being set to 0.0 in labels with no predicted samples.\n",
      "  'precision', 'predicted', average, warn_for)\n",
      "/opt/conda/lib/python3.6/site-packages/sklearn/metrics/classification.py:1135: UndefinedMetricWarning: F-score is ill-defined and being set to 0.0 in labels with no predicted samples.\n",
      "  'precision', 'predicted', average, warn_for)\n"
     ]
    },
    {
     "name": "stdout",
     "output_type": "stream",
     "text": [
      "                              F1     Fbeta  accuracy  precision    recall\n",
      "label                                                                    \n",
      "related                 0.957516  0.947105  0.944444   0.981481  0.944444\n",
      "request                 1.000000  1.000000  1.000000   1.000000  1.000000\n",
      "offer                   0.864583  0.875791  0.888889   0.901961  0.888889\n",
      "aid_related             0.985915  0.977654  0.972222   1.000000  0.972222\n",
      "medical_help            0.985915  0.977654  0.972222   1.000000  0.972222\n",
      "medical_products        0.970452  0.971087  0.972222   0.973064  0.972222\n",
      "search_and_rescue       1.000000  1.000000  1.000000   1.000000  1.000000\n",
      "security                0.970452  0.971087  0.972222   0.973064  0.972222\n",
      "military                0.904762  0.909586  0.916667   0.924242  0.916667\n",
      "child_alone             0.985915  0.977654  0.972222   1.000000  0.972222\n",
      "water                   1.000000  1.000000  1.000000   1.000000  1.000000\n",
      "food                    0.936027  0.939643  0.944444   0.947712  0.944444\n",
      "shelter                 0.931373  0.937740  0.944444   0.947619  0.944444\n",
      "clothing                0.958529  0.966698  0.972222   0.945216  0.972222\n",
      "money                   0.940741  0.941902  0.944444   0.948029  0.944444\n",
      "missing_people          0.936027  0.939643  0.944444   0.947712  0.944444\n",
      "refugees                0.931373  0.937740  0.944444   0.947619  0.944444\n",
      "death                   1.000000  1.000000  1.000000   1.000000  1.000000\n",
      "other_aid               1.000000  1.000000  1.000000   1.000000  1.000000\n",
      "infrastructure_related  0.970452  0.971087  0.972222   0.973064  0.972222\n",
      "transport               0.970452  0.971087  0.972222   0.973064  0.972222\n",
      "buildings               0.958529  0.966698  0.972222   0.945216  0.972222\n",
      "electricity             0.967794  0.969786  0.972222   0.973016  0.972222\n",
      "tools                   0.958529  0.966698  0.972222   0.945216  0.972222\n",
      "hospitals               0.958529  0.966698  0.972222   0.945216  0.972222\n",
      "shops                   0.976651  0.973020  0.972222   0.986111  0.972222\n",
      "aid_centers             1.000000  1.000000  1.000000   1.000000  1.000000\n",
      "other_infrastructure    0.769333  0.787630  0.805556   0.784512  0.805556\n",
      "weather_related         0.985915  0.977654  0.972222   1.000000  0.972222\n",
      "floods                  1.000000  1.000000  1.000000   1.000000  1.000000\n",
      "storm                   1.000000  1.000000  1.000000   1.000000  1.000000\n",
      "fire                    1.000000  1.000000  1.000000   1.000000  1.000000\n",
      "earthquake              0.541818  0.564271  0.611111   0.781250  0.611111\n",
      "cold                    0.976651  0.973020  0.972222   0.986111  0.972222\n",
      "other_weather           0.870251  0.878016  0.888889   0.902357  0.888889\n",
      "direct_report           1.000000  1.000000  1.000000   1.000000  1.000000\n"
     ]
    },
    {
     "data": {
      "image/png": "[encoded data removed]",
      "text/plain": [
       "<matplotlib.figure.Figure at 0x7f67861bf860>"
      ]
     },
     "metadata": {
      "needs_background": "light"
     },
     "output_type": "display_data"
    }
   ],
   "source": [
    "y_pred = cv.predict(X_test)\n",
    "\n",
    "labels = y_test.columns.values\n",
    "scores = calculate_scores(y_test.values, y_pred, labels)\n",
    "\n",
    "print(scores)\n",
    "scores.Fbeta.plot(kind='bar', figsize=(18,5));"
   ]
  },
  {
   "cell_type": "code",
   "execution_count": 14,
   "metadata": {},
   "outputs": [
    {
     "name": "stdout",
     "output_type": "stream",
     "text": [
      "\n",
      "Best Parameters: {'clf__estimator__min_samples_split': 2, 'clf__estimator__n_estimators': 30, 'tfidf__use_idf': True, 'vect__max_df': 0.5}\n"
     ]
    },
    {
     "name": "stderr",
     "output_type": "stream",
     "text": [
      "/opt/conda/lib/python3.6/site-packages/sklearn/utils/deprecation.py:122: FutureWarning: You are accessing a training score ('mean_train_score'), which will not be available by default any more in 0.21. If you need training scores, please set return_train_score=True\n",
      "  warnings.warn(*warn_args, **warn_kwargs)\n"
     ]
    },
    {
     "data": {
      "text/plain": [
       "Text(0,0.5,'Iterations')"
      ]
     },
     "execution_count": 14,
     "metadata": {},
     "output_type": "execute_result"
    },
    {
     "data": {
      "image/png": "[encoded data removed]",
      "text/plain": [
       "<matplotlib.figure.Figure at 0x7f6785fab6d8>"
      ]
     },
     "metadata": {
      "needs_background": "light"
     },
     "output_type": "display_data"
    }
   ],
   "source": [
    "print(\"\\nBest Parameters:\", cv.best_params_)\n",
    "mean_scores = pd.DataFrame([cv.cv_results_['mean_train_score'],cv.cv_results_['mean_test_score']], index=['train','test'])\n",
    "\n",
    "ax = mean_scores.T.plot(kind='bar', title='Train and Test Scores over Iterations')\n",
    "ax.set_xlabel(\"Scores\")\n",
    "ax.set_ylabel(\"Iterations\")"
   ]
  },
  {
   "cell_type": "markdown",
   "metadata": {},
   "source": [
    "### 8. Try improving your model further. Here are a few ideas:\n",
    "* try other machine learning algorithms\n",
    "* add other features besides the TF-IDF"
   ]
  },
  {
   "cell_type": "code",
   "execution_count": 18,
   "metadata": {},
   "outputs": [
    {
     "name": "stdout",
     "output_type": "stream",
     "text": [
      "Fitting 3 folds for each of 4 candidates, totalling 12 fits\n",
      "[CV] clf__estimator__learning_rate=0.1, clf__estimator__n_estimators=10 \n",
      "[CV]  clf__estimator__learning_rate=0.1, clf__estimator__n_estimators=10, score=0.1494196501553049, total=  25.3s\n",
      "[CV] clf__estimator__learning_rate=0.1, clf__estimator__n_estimators=10 \n"
     ]
    },
    {
     "name": "stderr",
     "output_type": "stream",
     "text": [
      "[Parallel(n_jobs=1)]: Done   1 out of   1 | elapsed:   35.5s remaining:    0.0s\n"
     ]
    },
    {
     "name": "stdout",
     "output_type": "stream",
     "text": [
      "[CV]  clf__estimator__learning_rate=0.1, clf__estimator__n_estimators=10, score=0.1391204838973353, total=  25.9s\n",
      "[CV] clf__estimator__learning_rate=0.1, clf__estimator__n_estimators=10 \n"
     ]
    },
    {
     "name": "stderr",
     "output_type": "stream",
     "text": [
      "[Parallel(n_jobs=1)]: Done   2 out of   2 | elapsed:  1.2min remaining:    0.0s\n"
     ]
    },
    {
     "name": "stdout",
     "output_type": "stream",
     "text": [
      "[CV]  clf__estimator__learning_rate=0.1, clf__estimator__n_estimators=10, score=0.16462318129802192, total=  25.5s\n",
      "[CV] clf__estimator__learning_rate=0.1, clf__estimator__n_estimators=50 \n",
      "[CV]  clf__estimator__learning_rate=0.1, clf__estimator__n_estimators=50, score=0.1441883276115743, total= 1.3min\n",
      "[CV] clf__estimator__learning_rate=0.1, clf__estimator__n_estimators=50 \n",
      "[CV]  clf__estimator__learning_rate=0.1, clf__estimator__n_estimators=50, score=0.1476213830308975, total= 1.3min\n",
      "[CV] clf__estimator__learning_rate=0.1, clf__estimator__n_estimators=50 \n",
      "[CV]  clf__estimator__learning_rate=0.1, clf__estimator__n_estimators=50, score=0.13437959784207945, total= 1.3min\n",
      "[CV] clf__estimator__learning_rate=0.3, clf__estimator__n_estimators=10 \n",
      "[CV]  clf__estimator__learning_rate=0.3, clf__estimator__n_estimators=10, score=0.12604217753800884, total=  25.7s\n",
      "[CV] clf__estimator__learning_rate=0.3, clf__estimator__n_estimators=10 \n",
      "[CV]  clf__estimator__learning_rate=0.3, clf__estimator__n_estimators=10, score=0.13536047081902894, total=  25.7s\n",
      "[CV] clf__estimator__learning_rate=0.3, clf__estimator__n_estimators=10 \n",
      "[CV]  clf__estimator__learning_rate=0.3, clf__estimator__n_estimators=10, score=0.15170835376818703, total=  25.5s\n",
      "[CV] clf__estimator__learning_rate=0.3, clf__estimator__n_estimators=50 \n",
      "[CV]  clf__estimator__learning_rate=0.3, clf__estimator__n_estimators=50, score=0.13061958476377308, total= 1.3min\n",
      "[CV] clf__estimator__learning_rate=0.3, clf__estimator__n_estimators=50 \n",
      "[CV]  clf__estimator__learning_rate=0.3, clf__estimator__n_estimators=50, score=0.1110021252247834, total= 1.3min\n",
      "[CV] clf__estimator__learning_rate=0.3, clf__estimator__n_estimators=50 \n",
      "[CV]  clf__estimator__learning_rate=0.3, clf__estimator__n_estimators=50, score=0.1186856302108877, total= 1.3min\n"
     ]
    },
    {
     "name": "stderr",
     "output_type": "stream",
     "text": [
      "[Parallel(n_jobs=1)]: Done  12 out of  12 | elapsed: 12.5min finished\n"
     ]
    }
   ],
   "source": [
    "from sklearn.ensemble import AdaBoostClassifier\n",
    "from sklearn.tree import DecisionTreeClassifier\n",
    "\n",
    "pipeline_ada = Pipeline([\n",
    "    ('vect', CountVectorizer(tokenizer=tokenize)),\n",
    "    ('tfidf', TfidfTransformer()),\n",
    "    ('clf', MultiOutputClassifier(\n",
    "        AdaBoostClassifier(base_estimator=DecisionTreeClassifier(max_depth=1, class_weight='balanced'))\n",
    "    ))\n",
    "])\n",
    "\n",
    "parameters_ada = {\n",
    "    'clf__estimator__learning_rate': [0.1, 0.3],\n",
    "    'clf__estimator__n_estimators': [10, 50]\n",
    "}\n",
    "\n",
    "cv_ada = GridSearchCV(estimator=pipeline_ada, param_grid=parameters_ada, cv=3, verbose=3)\n",
    "\n",
    "with active_session():\n",
    "    cv_ada.fit(X_train, y_train)\n"
   ]
  },
  {
   "cell_type": "code",
   "execution_count": 19,
   "metadata": {},
   "outputs": [
    {
     "name": "stderr",
     "output_type": "stream",
     "text": [
      "/opt/conda/lib/python3.6/site-packages/sklearn/metrics/classification.py:1135: UndefinedMetricWarning: Precision is ill-defined and being set to 0.0 in labels with no predicted samples.\n",
      "  'precision', 'predicted', average, warn_for)\n",
      "/opt/conda/lib/python3.6/site-packages/sklearn/metrics/classification.py:1135: UndefinedMetricWarning: F-score is ill-defined and being set to 0.0 in labels with no predicted samples.\n",
      "  'precision', 'predicted', average, warn_for)\n",
      "/opt/conda/lib/python3.6/site-packages/sklearn/metrics/classification.py:1137: UndefinedMetricWarning: Recall is ill-defined and being set to 0.0 in labels with no true samples.\n",
      "  'recall', 'true', average, warn_for)\n",
      "/opt/conda/lib/python3.6/site-packages/sklearn/metrics/classification.py:1137: UndefinedMetricWarning: F-score is ill-defined and being set to 0.0 in labels with no true samples.\n",
      "  'recall', 'true', average, warn_for)\n"
     ]
    },
    {
     "name": "stdout",
     "output_type": "stream",
     "text": [
      "                              F1     Fbeta  accuracy  precision    recall\n",
      "label                                                                    \n",
      "related                 0.899668  0.876130  0.861111   0.941840  0.861111\n",
      "request                 0.958529  0.966698  0.972222   0.945216  0.972222\n",
      "offer                   0.833333  0.833333  0.833333   0.833333  0.833333\n",
      "aid_related             1.000000  1.000000  1.000000   1.000000  1.000000\n",
      "medical_help            0.971429  0.955056  0.944444   1.000000  0.944444\n",
      "medical_products        0.807407  0.787037  0.777778   0.853175  0.777778\n",
      "search_and_rescue       1.000000  1.000000  1.000000   1.000000  1.000000\n",
      "security                0.893532  0.905209  0.916667   0.923810  0.916667\n",
      "military                0.904762  0.909586  0.916667   0.924242  0.916667\n",
      "child_alone             1.000000  1.000000  1.000000   1.000000  1.000000\n",
      "water                   1.000000  1.000000  1.000000   1.000000  1.000000\n",
      "food                    0.936027  0.939643  0.944444   0.947712  0.944444\n",
      "shelter                 0.944444  0.944444  0.944444   0.944444  0.944444\n",
      "clothing                0.915033  0.899165  0.888889   0.942761  0.888889\n",
      "money                   0.833333  0.833333  0.833333   0.833333  0.833333\n",
      "missing_people          0.888889  0.888889  0.888889   0.888889  0.888889\n",
      "refugees                0.888889  0.888889  0.888889   0.888889  0.888889\n",
      "death                   0.898208  0.891510  0.888889   0.914815  0.888889\n",
      "other_aid               1.000000  1.000000  1.000000   1.000000  1.000000\n",
      "infrastructure_related  0.936027  0.939643  0.944444   0.947712  0.944444\n",
      "transport               0.911355  0.914242  0.916667   0.909091  0.916667\n",
      "buildings               0.958529  0.966698  0.972222   0.945216  0.972222\n",
      "electricity             0.903382  0.911306  0.916667   0.890476  0.916667\n",
      "tools                   0.944444  0.944444  0.944444   0.944444  0.944444\n",
      "hospitals               0.958529  0.966698  0.972222   0.945216  0.972222\n",
      "shops                   0.958529  0.966698  0.972222   0.945216  0.972222\n",
      "aid_centers             1.000000  1.000000  1.000000   1.000000  1.000000\n",
      "other_infrastructure    0.788063  0.797161  0.805556   0.785663  0.805556\n",
      "weather_related         0.971429  0.955056  0.944444   1.000000  0.944444\n",
      "floods                  0.958529  0.966698  0.972222   0.945216  0.972222\n",
      "storm                   0.876812  0.900298  0.916667   0.840278  0.916667\n",
      "fire                    0.908955  0.913296  0.916667   0.904412  0.916667\n",
      "earthquake              0.638796  0.643750  0.666667   0.741071  0.666667\n",
      "cold                    0.957516  0.947105  0.944444   0.981481  0.944444\n",
      "other_weather           0.774510  0.751812  0.750000   0.852273  0.750000\n",
      "direct_report           0.985915  0.977654  0.972222   1.000000  0.972222\n"
     ]
    },
    {
     "data": {
      "image/png": "[encoded data removed]",
      "text/plain": [
       "<matplotlib.figure.Figure at 0x7f67856db160>"
      ]
     },
     "metadata": {
      "needs_background": "light"
     },
     "output_type": "display_data"
    }
   ],
   "source": [
    "y_pred = cv_ada.predict(X_test)\n",
    "\n",
    "labels = y_test.columns.values\n",
    "scores = calculate_scores(y_test.values, y_pred, labels)\n",
    "\n",
    "print(scores)\n",
    "scores.Fbeta.plot(kind='bar', figsize=(18,5));"
   ]
  },
  {
   "cell_type": "code",
   "execution_count": 20,
   "metadata": {},
   "outputs": [
    {
     "name": "stdout",
     "output_type": "stream",
     "text": [
      "\n",
      "Best Parameters: {'clf__estimator__min_samples_split': 2, 'clf__estimator__n_estimators': 30, 'tfidf__use_idf': True, 'vect__max_df': 0.5}\n"
     ]
    },
    {
     "name": "stderr",
     "output_type": "stream",
     "text": [
      "/opt/conda/lib/python3.6/site-packages/sklearn/utils/deprecation.py:122: FutureWarning: You are accessing a training score ('mean_train_score'), which will not be available by default any more in 0.21. If you need training scores, please set return_train_score=True\n",
      "  warnings.warn(*warn_args, **warn_kwargs)\n"
     ]
    },
    {
     "data": {
      "text/plain": [
       "Text(0,0.5,'Iterations')"
      ]
     },
     "execution_count": 20,
     "metadata": {},
     "output_type": "execute_result"
    },
    {
     "data": {
      "image/png": "[encoded data removed]",
      "text/plain": [
       "<matplotlib.figure.Figure at 0x7f6785870438>"
      ]
     },
     "metadata": {
      "needs_background": "light"
     },
     "output_type": "display_data"
    }
   ],
   "source": [
    "print(\"\\nBest Parameters:\", cv.best_params_)\n",
    "mean_scores = pd.DataFrame([cv.cv_results_['mean_train_score'],cv.cv_results_['mean_test_score']], index=['train','test'])\n",
    "\n",
    "ax = mean_scores.T.plot(kind='bar', title='Train and Test Scores over Iterations')\n",
    "ax.set_xlabel(\"Scores\")\n",
    "ax.set_ylabel(\"Iterations\")"
   ]
  },
  {
   "cell_type": "markdown",
   "metadata": {},
   "source": [
    "### 9. Export your model as a pickle file"
   ]
  },
  {
   "cell_type": "code",
   "execution_count": 21,
   "metadata": {},
   "outputs": [],
   "source": [
    "import pickle\n",
    "\n",
    "with open('trained_model.pkl', 'wb') as pickle_file:\n",
    "    pickle.dump(cv, pickle_file, fix_imports=True)"
   ]
  },
  {
   "cell_type": "markdown",
   "metadata": {},
   "source": [
    "### 10. Use this notebook to complete `train.py`\n",
    "Use the template file attached in the Resources folder to write a script that runs the steps above to create a database and export a model based on a new dataset specified by the user."
   ]
  },
  {
   "cell_type": "code",
   "execution_count": null,
   "metadata": {},
   "outputs": [],
   "source": []
  }
 ],
 "metadata": {
  "kernelspec": {
   "display_name": "Python 3",
   "language": "python",
   "name": "python3"
  },
  "language_info": {
   "codemirror_mode": {
    "name": "ipython",
    "version": 3
   },
   "file_extension": ".py",
   "mimetype": "text/x-python",
   "name": "python",
   "nbconvert_exporter": "python",
   "pygments_lexer": "ipython3",
   "version": "3.6.3"
  }
 },
 "nbformat": 4,
 "nbformat_minor": 2
}
